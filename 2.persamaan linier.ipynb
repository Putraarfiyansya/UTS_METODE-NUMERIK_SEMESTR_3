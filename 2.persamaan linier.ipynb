{
  "nbformat": 4,
  "nbformat_minor": 0,
  "metadata": {
    "colab": {
      "provenance": [],
      "authorship_tag": "ABX9TyOSa2fU0tMPdpB8+feIHN8W",
      "include_colab_link": true
    },
    "kernelspec": {
      "name": "python3",
      "display_name": "Python 3"
    },
    "language_info": {
      "name": "python"
    }
  },
  "cells": [
    {
      "cell_type": "markdown",
      "metadata": {
        "id": "view-in-github",
        "colab_type": "text"
      },
      "source": [
        "<a href=\"https://colab.research.google.com/github/Putraarfiyansya/UTS_METODE-NUMERIK_SEMESTR_3/blob/main/2.persamaan%20linier.ipynb\" target=\"_parent\"><img src=\"https://colab.research.google.com/assets/colab-badge.svg\" alt=\"Open In Colab\"/></a>"
      ]
    },
    {
      "cell_type": "code",
      "execution_count": null,
      "metadata": {
        "id": "6ZCN5F59nERI"
      },
      "outputs": [],
      "source": [
        "# Persamaan Linier\n",
        "# 2x + 4 = 8\n",
        "def persamaan_linier(a, b, c):\n",
        "\n",
        "  x = (c - b) / a\n",
        "  return x\n",
        "\n",
        "\n",
        "if __name__ == \"__main__\":\n",
        "  a = 2\n",
        "  b = 4\n",
        "  c = 8\n",
        "  x = persamaan_linier(a, b, c)\n",
        "  print(f\"solusi dari persamaan linier 2x + 4 = 8 yaitu, x = {x}\")"
      ]
    }
  ]
}