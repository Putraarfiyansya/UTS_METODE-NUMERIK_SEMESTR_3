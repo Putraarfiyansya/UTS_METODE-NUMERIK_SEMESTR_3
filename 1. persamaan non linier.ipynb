{
  "nbformat": 4,
  "nbformat_minor": 0,
  "metadata": {
    "colab": {
      "provenance": [],
      "authorship_tag": "ABX9TyNs729/dk1Z2yj0Bwn1dW38",
      "include_colab_link": true
    },
    "kernelspec": {
      "name": "python3",
      "display_name": "Python 3"
    },
    "language_info": {
      "name": "python"
    }
  },
  "cells": [
    {
      "cell_type": "markdown",
      "metadata": {
        "id": "view-in-github",
        "colab_type": "text"
      },
      "source": [
        "<a href=\"https://colab.research.google.com/github/Putraarfiyansya/UTS_METODE-NUMERIK_SEMESTR_3/blob/main/1.%20persamaan%20non%20linier.ipynb\" target=\"_parent\"><img src=\"https://colab.research.google.com/assets/colab-badge.svg\" alt=\"Open In Colab\"/></a>"
      ]
    },
    {
      "cell_type": "code",
      "execution_count": null,
      "metadata": {
        "id": "9hotwbHtl6qC"
      },
      "outputs": [],
      "source": [
        "#Persamaan Non Linier\n",
        "#3 + x3 - x = 4\n",
        "\n",
        "import math\n",
        "def persamaan_non_linier(f, a, b, tol):\n",
        "    fa = f(a)\n",
        "    fb = f(b)\n",
        "\n",
        "    if fa * fb > 0:\n",
        "        raise ValueError(\"Melebihi batas  interval.\")\n",
        "\n",
        "    while abs(b - a) > tol:\n",
        "        c = (a + b) / 2\n",
        "        fc = f(c)\n",
        "\n",
        "        if fc * fa > 0:\n",
        "            a = c\n",
        "        else:\n",
        "            b = c\n",
        "\n",
        "    return c\n",
        "\n",
        "def f(x):\n",
        "    return 3 + x**3 - x - 4\n",
        "\n",
        "a = -1\n",
        "b = 2\n",
        "tol = 1e-6\n",
        "\n",
        "batas = persamaan_non_linier(f, a, b, tol)\n",
        "print(\"Solusi dari persamaan non linier 3 + x3 - x = 4, maka fungsi f(x) = 0 yaitu:\", batas)"
      ]
    }
  ]
}